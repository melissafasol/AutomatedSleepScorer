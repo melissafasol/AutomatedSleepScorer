{
 "cells": [
  {
   "cell_type": "code",
   "execution_count": 9,
   "id": "f08dc0c1",
   "metadata": {},
   "outputs": [],
   "source": [
    "import os \n",
    "import mne \n",
    "import numpy as np\n",
    "import matplotlib\n",
    "import matplotlib.pyplot as plt\n",
    "import pandas as pd\n",
    "matplotlib.use('Qt5Agg')"
   ]
  },
  {
   "cell_type": "code",
   "execution_count": 3,
   "id": "c4a749e2",
   "metadata": {},
   "outputs": [
    {
     "name": "stdout",
     "output_type": "stream",
     "text": [
      "Creating RawArray with float64 data, n_channels=16, n_times=66292948\n",
      "    Range : 0 ... 66292947 =      0.000 ... 264748.191 secs\n",
      "Ready.\n",
      "Using matplotlib as 2D backend.\n",
      "Opening raw-browser...\n"
     ]
    },
    {
     "data": {
      "image/png": "[encoded data removed]",
      "text/plain": [
       "<MNEBrowseFigure size 576x576 with 4 Axes>"
      ]
     },
     "execution_count": 3,
     "metadata": {},
     "output_type": "execute_result"
    }
   ],
   "source": [
    "#change to load different recordings\n",
    "directory = '/home/melissa/preprocessing/GRIN2B/GRIN2B_numpy'\n",
    "os.chdir(directory)\n",
    "data = np.load('137_GRIN2B.npy')\n",
    "start_time=74334\n",
    "end_time=84334\n",
    "\n",
    "os.chdir('/home/melissa/SleepScorer/')\n",
    "montage_name = 'standard_16grid_taini1.elc'\n",
    "montage = mne.channels.read_custom_montage(montage_name)\n",
    "sample_rate = 250.4\n",
    "channel_types=['eeg', 'eeg', 'eeg', 'eeg', 'eeg', 'eeg', 'eeg', 'eeg',\n",
    "                    'eeg', 'eeg', 'eeg', 'eeg', 'eeg', 'eeg', 'emg', 'emg']\n",
    "\n",
    "ch_names = ['S1Tr_RIGHT', 'EMG_RIGHT', 'M2_FrA_RIGHT', 'M2_ant_RIGHT', 'M1_ant_RIGHT', 'V2ML_RIGHT', 'V1M_RIGHT', 'S1HL_S1FL_RIGHT', \n",
    "           'V1M_LEFT', 'V2ML_LEFT', 'S1HL_S1FL_LEFT', 'M1_ant_LEFT', 'M2_ant_LEFT', 'M2_FrA_LEFT', 'EMG_LEFT', 'S1Tr_LEFT']\n",
    "\n",
    "ch_numbers = [0,1,2,3,4,5,6,7,8,9,10,11,12,13,14,15]\n",
    "info = mne.create_info(ch_names = ch_names, sfreq=sample_rate, ch_types=channel_types)\n",
    "\n",
    "\n",
    "'This makes the object that contains all the data and info about the channels.'\n",
    "'Computations like plotting, averaging, power spectrums can be performed on this object'\n",
    "\n",
    "custom_raw = mne.io.RawArray(data, info)\n",
    "custom_raw.plot(duration = 10000, start = 5000, n_channels = 16)"
   ]
  },
  {
   "cell_type": "code",
   "execution_count": 7,
   "id": "e2e9a6e9",
   "metadata": {},
   "outputs": [
    {
     "data": {
      "text/plain": [
       "['GRIN2B_237_BL3-pw_spectrum.csv',\n",
       " 'GRIN2B_237_BL3-dge_swd.csv',\n",
       " 'GRIN2B_237_BL2-pw_spectrum.csv',\n",
       " 'GRIN2B_237_BL1-dge_swd.csv',\n",
       " 'GRIN2B_237_BL2-dge_swd.csv',\n",
       " 'GRIN2B_237_BL1-pw_spectrum.csv',\n",
       " 'seiz',\n",
       " 'GRIN2B_237_BL1_Channels.csv']"
      ]
     },
     "execution_count": 7,
     "metadata": {},
     "output_type": "execute_result"
    }
   ],
   "source": [
    "os.chdir('/home/melissa/preprocessing/GRIN2B/raw_data/GRIN2B_237')\n",
    "os.listdir('/home/melissa/preprocessing/GRIN2B/raw_data/GRIN2B_237')"
   ]
  },
  {
   "cell_type": "code",
   "execution_count": 11,
   "id": "95630d0b",
   "metadata": {},
   "outputs": [
    {
     "data": {
      "text/html": [
       "<div>\n",
       "<style scoped>\n",
       "    .dataframe tbody tr th:only-of-type {\n",
       "        vertical-align: middle;\n",
       "    }\n",
       "\n",
       "    .dataframe tbody tr th {\n",
       "        vertical-align: top;\n",
       "    }\n",
       "\n",
       "    .dataframe thead th {\n",
       "        text-align: right;\n",
       "    }\n",
       "</style>\n",
       "<table border=\"1\" class=\"dataframe\">\n",
       "  <thead>\n",
       "    <tr style=\"text-align: right;\">\n",
       "      <th></th>\n",
       "      <th>Chanls1</th>\n",
       "      <th>Chanls2</th>\n",
       "    </tr>\n",
       "  </thead>\n",
       "  <tbody>\n",
       "    <tr>\n",
       "      <th>0</th>\n",
       "      <td>0.000000</td>\n",
       "      <td>0.000000</td>\n",
       "    </tr>\n",
       "    <tr>\n",
       "      <th>1</th>\n",
       "      <td>0.000000</td>\n",
       "      <td>0.000000</td>\n",
       "    </tr>\n",
       "    <tr>\n",
       "      <th>2</th>\n",
       "      <td>0.000000</td>\n",
       "      <td>0.000000</td>\n",
       "    </tr>\n",
       "    <tr>\n",
       "      <th>3</th>\n",
       "      <td>0.000000</td>\n",
       "      <td>0.000000</td>\n",
       "    </tr>\n",
       "    <tr>\n",
       "      <th>4</th>\n",
       "      <td>8.396825</td>\n",
       "      <td>8.263492</td>\n",
       "    </tr>\n",
       "    <tr>\n",
       "      <th>...</th>\n",
       "      <td>...</td>\n",
       "      <td>...</td>\n",
       "    </tr>\n",
       "    <tr>\n",
       "      <th>21634555</th>\n",
       "      <td>8.466667</td>\n",
       "      <td>8.400000</td>\n",
       "    </tr>\n",
       "    <tr>\n",
       "      <th>21634556</th>\n",
       "      <td>8.434921</td>\n",
       "      <td>8.406349</td>\n",
       "    </tr>\n",
       "    <tr>\n",
       "      <th>21634557</th>\n",
       "      <td>8.409524</td>\n",
       "      <td>8.412698</td>\n",
       "    </tr>\n",
       "    <tr>\n",
       "      <th>21634558</th>\n",
       "      <td>8.352381</td>\n",
       "      <td>8.419048</td>\n",
       "    </tr>\n",
       "    <tr>\n",
       "      <th>21634559</th>\n",
       "      <td>8.320635</td>\n",
       "      <td>8.431746</td>\n",
       "    </tr>\n",
       "  </tbody>\n",
       "</table>\n",
       "<p>21634560 rows × 2 columns</p>\n",
       "</div>"
      ],
      "text/plain": [
       "           Chanls1   Chanls2\n",
       "0         0.000000  0.000000\n",
       "1         0.000000  0.000000\n",
       "2         0.000000  0.000000\n",
       "3         0.000000  0.000000\n",
       "4         8.396825  8.263492\n",
       "...            ...       ...\n",
       "21634555  8.466667  8.400000\n",
       "21634556  8.434921  8.406349\n",
       "21634557  8.409524  8.412698\n",
       "21634558  8.352381  8.419048\n",
       "21634559  8.320635  8.431746\n",
       "\n",
       "[21634560 rows x 2 columns]"
      ]
     },
     "execution_count": 11,
     "metadata": {},
     "output_type": "execute_result"
    }
   ],
   "source": [
    "pd.read_csv('GRIN2B_237_BL1_Channels.csv')"
   ]
  }
 ],
 "metadata": {
  "kernelspec": {
   "display_name": "Python 3",
   "language": "python",
   "name": "python3"
  },
  "language_info": {
   "codemirror_mode": {
    "name": "ipython",
    "version": 3
   },
   "file_extension": ".py",
   "mimetype": "text/x-python",
   "name": "python",
   "nbconvert_exporter": "python",
   "pygments_lexer": "ipython3",
   "version": "3.8.5"
  }
 },
 "nbformat": 4,
 "nbformat_minor": 5
}
