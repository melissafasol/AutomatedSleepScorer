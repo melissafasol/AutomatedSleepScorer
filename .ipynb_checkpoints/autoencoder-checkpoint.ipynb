{
 "cells": [
  {
   "cell_type": "code",
   "execution_count": 141,
   "id": "d59a2ba3",
   "metadata": {},
   "outputs": [],
   "source": [
    "import os\n",
    "\n",
    "# datasets\n",
    "import torch\n",
    "from torch.utils.data import Dataset\n",
    "from torch.utils.data import DataLoader\n",
    "\n",
    "# neural networks\n",
    "import torch.nn as nn\n",
    "import torch.nn.functional as F\n",
    "\n",
    "# optimizer (update weights - does backprop)\n",
    "import torch.optim as optim\n",
    "\n",
    "import matplotlib.pyplot as plt"
   ]
  },
  {
   "cell_type": "code",
   "execution_count": 3,
   "id": "dfb8ef2a",
   "metadata": {},
   "outputs": [],
   "source": [
    "#here apply preprocessing class to remove noise and to split data into 5 second epochs"
   ]
  },
  {
   "cell_type": "code",
   "execution_count": 14,
   "id": "da452a00",
   "metadata": {},
   "outputs": [],
   "source": [
    "os.chdir('/home/melissa/taini_main/scripts')\n",
    "%run preproc1_preparefiles.py\n",
    "%run preproc2_extractbrainstate.py\n",
    "%run preproc3_filter.py"
   ]
  },
  {
   "cell_type": "code",
   "execution_count": 16,
   "id": "e08a8237",
   "metadata": {},
   "outputs": [],
   "source": [
    "#preprocessing\n",
    "directory_path = '/home/melissa/preprocessing/SYNGAP1/numpyformat_baseline'\n",
    "animal = 'S7098'\n",
    "channel = 2\n",
    "prepare_files = PrepareFiles(directory_path=directory_path, animal_id = animal)\n",
    "recording, brain_state_1 = prepare_files.load_one_analysis_file()\n",
    "start_time_1, start_time_2 = prepare_files.get_one_start_time(start_times_baseline)\n",
    "test_load = LoadFromStart(recording = recording, start_time_1 = start_time_1, start_time_2 = start_time_2, channelnumber = channel)\n",
    "data_1 = test_load.load_one_file_from_start()"
   ]
  },
  {
   "cell_type": "markdown",
   "id": "e92178fa",
   "metadata": {},
   "source": [
    "## additional preprocessing required - remove noise (apply filters - is it best to do this to entire signal or in epochs?)"
   ]
  },
  {
   "cell_type": "markdown",
   "id": "9891744e",
   "metadata": {},
   "source": [
    "## split data into train and test sets"
   ]
  },
  {
   "cell_type": "markdown",
   "id": "ea7d12b5",
   "metadata": {},
   "source": [
    "## Class to load data \n",
    "The functions within this class load data into a specific number of data samples with an equal number of data points in each sample"
   ]
  },
  {
   "cell_type": "code",
   "execution_count": 253,
   "id": "db152280",
   "metadata": {},
   "outputs": [],
   "source": [
    "class EEGDataset(Dataset):\n",
    "    \n",
    "    #where n is the number of data samples in total and t is the length of each sample \n",
    "    def __init__(self, raw_data):\n",
    "        self.raw_data = raw_data\n",
    "        self.n = int(len(raw_data)/2)\n",
    "    \n",
    "    def _load_data(self):\n",
    "        dataset_splice_function = lambda dataset, t_len = 1252: [dataset[i:i + 1252] for i in range(0, (len(dataset)-1252), t_len)]\n",
    "        spliced_dataset = tuple(dataset_splice_function(self.raw_data))\n",
    "        dataset_torch = torch.Tensor(spliced_dataset)\n",
    "        return dataset_torch\n",
    "    \n",
    "    def __len__(self):\n",
    "        return len(self.raw_data)\n",
    "\n",
    "    #function loads dataset\n",
    "    def __getitem__(self, idx):\n",
    "        return self.raw_data[idx]"
   ]
  },
  {
   "cell_type": "code",
   "execution_count": 254,
   "id": "50eb6467",
   "metadata": {},
   "outputs": [],
   "source": [
    "eeg_dataset = EEGDataset(data_1)\n",
    "test_eeg_loader = eeg_dataset._load_data()"
   ]
  },
  {
   "cell_type": "code",
   "execution_count": 255,
   "id": "b81ea15f",
   "metadata": {},
   "outputs": [
    {
     "data": {
      "text/plain": [
       "1252"
      ]
     },
     "execution_count": 255,
     "metadata": {},
     "output_type": "execute_result"
    }
   ],
   "source": [
    "len(test_eeg_loader[0])"
   ]
  },
  {
   "cell_type": "code",
   "execution_count": 256,
   "id": "7f4813c8",
   "metadata": {},
   "outputs": [],
   "source": [
    "train_dataloader = DataLoader(test_eeg_loader, batch_size= 64, shuffle=True)"
   ]
  },
  {
   "cell_type": "code",
   "execution_count": 257,
   "id": "260580f6",
   "metadata": {},
   "outputs": [
    {
     "name": "stdout",
     "output_type": "stream",
     "text": [
      "642\n",
      "64\n"
     ]
    }
   ],
   "source": [
    "x = list(train_dataloader)\n",
    "print(len(x))\n",
    "print(len(x[0]))"
   ]
  },
  {
   "cell_type": "code",
   "execution_count": 258,
   "id": "ad18cc95",
   "metadata": {},
   "outputs": [
    {
     "data": {
      "text/plain": [
       "642"
      ]
     },
     "execution_count": 258,
     "metadata": {},
     "output_type": "execute_result"
    }
   ],
   "source": [
    "len(x)"
   ]
  },
  {
   "cell_type": "markdown",
   "id": "73f902ff",
   "metadata": {},
   "source": [
    "## Define neural network by subclassing nn.Module"
   ]
  },
  {
   "cell_type": "code",
   "execution_count": 261,
   "id": "a7f65e7b",
   "metadata": {},
   "outputs": [],
   "source": [
    "class AutoMel(nn.Module):\n",
    "    \n",
    "    ##initialise the network layers in init\n",
    "    def __init__(self):\n",
    "        super().__init__()\n",
    "        feature_size = 100\n",
    "        #applies linear transformation to incoming data (nn.Linear(in_features, out_features))\n",
    "        self.enc_lin = nn.Linear(1252, feature_size)\n",
    "        self.dec_lin = nn.Linear(feature_size, 1252)\n",
    "        \n",
    "        nn.init.normal_(self.enc_lin.weight)\n",
    "        nn.init.normal_(self.dec_lin.weight)\n",
    "    \n",
    "    #every nn.Module subclass implements the operations on input data in the forward method.    \n",
    "    def forward(self, x):\n",
    "        # b x t\n",
    "        features = torch.sigmoid(self.enc_lin(x))\n",
    "        \n",
    "        decoding = torch.sigmoid(self.dec_lin(features))\n",
    "        \n",
    "        return decoding\n",
    "        \n",
    "auto_mel = AutoMel()"
   ]
  },
  {
   "cell_type": "code",
   "execution_count": 262,
   "id": "9c1ad1c3",
   "metadata": {},
   "outputs": [
    {
     "name": "stdout",
     "output_type": "stream",
     "text": [
      "epoch 0 loss 12699409.0\n",
      "epoch 1 loss 57803868.0\n",
      "epoch 2 loss 6886276.5\n",
      "epoch 3 loss 9138913.0\n",
      "epoch 4 loss 10142454.0\n",
      "epoch 5 loss 6907648.0\n",
      "epoch 6 loss 11435617.0\n",
      "epoch 7 loss 8344876.0\n",
      "epoch 8 loss 15759635.0\n",
      "epoch 9 loss 57651740.0\n",
      "epoch 10 loss 7028436.5\n",
      "epoch 11 loss 11181854.0\n",
      "epoch 12 loss 23629552.0\n",
      "epoch 13 loss 7474981.0\n",
      "epoch 14 loss 8886173.0\n",
      "epoch 15 loss 6866883.0\n",
      "epoch 16 loss 11540765.0\n",
      "epoch 17 loss 11930371.0\n",
      "epoch 18 loss 37357316.0\n",
      "epoch 19 loss 8386845.5\n",
      "epoch 20 loss 11113031.0\n",
      "epoch 21 loss 9675446.0\n",
      "epoch 22 loss 8962521.0\n",
      "epoch 23 loss 34266680.0\n",
      "epoch 24 loss 7258969.0\n",
      "epoch 25 loss 19265742.0\n",
      "epoch 26 loss 8670168.0\n",
      "epoch 27 loss 107838488.0\n",
      "epoch 28 loss 7797853.0\n",
      "epoch 29 loss 14248901.0\n",
      "epoch 30 loss 9561069.0\n",
      "epoch 31 loss 8920583.0\n",
      "epoch 32 loss 54205948.0\n",
      "epoch 33 loss 7606444.5\n",
      "epoch 34 loss 11504660.0\n",
      "epoch 35 loss 52491840.0\n",
      "epoch 36 loss 13217342.0\n",
      "epoch 37 loss 10862813.0\n",
      "epoch 38 loss 101845008.0\n",
      "epoch 39 loss 12304045.0\n",
      "epoch 40 loss 28480030.0\n",
      "epoch 41 loss 55174712.0\n",
      "epoch 42 loss 15219929.0\n",
      "epoch 43 loss 29146230.0\n",
      "epoch 44 loss 17772326.0\n",
      "epoch 45 loss 18298796.0\n",
      "epoch 46 loss 11179161.0\n",
      "epoch 47 loss 9436427.0\n",
      "epoch 48 loss 19689986.0\n",
      "epoch 49 loss 53221740.0\n",
      "epoch 50 loss 7277547.0\n",
      "epoch 51 loss 50207200.0\n",
      "epoch 52 loss 10127413.0\n",
      "epoch 53 loss 6928234.5\n",
      "epoch 54 loss 10451595.0\n",
      "epoch 55 loss 18053970.0\n",
      "epoch 56 loss 8736575.0\n",
      "epoch 57 loss 10839401.0\n",
      "epoch 58 loss 16831806.0\n",
      "epoch 59 loss 9370217.0\n",
      "epoch 60 loss 54380216.0\n",
      "epoch 61 loss 9468714.0\n",
      "epoch 62 loss 12485938.0\n",
      "epoch 63 loss 27697648.0\n",
      "epoch 64 loss 103000832.0\n",
      "epoch 65 loss 65886208.0\n",
      "epoch 66 loss 111225600.0\n",
      "epoch 67 loss 36331896.0\n",
      "epoch 68 loss 7336809.0\n",
      "epoch 69 loss 9109491.0\n",
      "epoch 70 loss 82906576.0\n",
      "epoch 71 loss 20743310.0\n",
      "epoch 72 loss 54121884.0\n",
      "epoch 73 loss 40206064.0\n",
      "epoch 74 loss 12244545.0\n",
      "epoch 75 loss 7401710.5\n",
      "epoch 76 loss 16807388.0\n",
      "epoch 77 loss 56725952.0\n",
      "epoch 78 loss 100654784.0\n",
      "epoch 79 loss 7146119.0\n",
      "epoch 80 loss 33249554.0\n",
      "epoch 81 loss 19464692.0\n",
      "epoch 82 loss 7238244.0\n",
      "epoch 83 loss 11162567.0\n",
      "epoch 84 loss 12932145.0\n",
      "epoch 85 loss 10188926.0\n",
      "epoch 86 loss 26661436.0\n",
      "epoch 87 loss 9833699.0\n",
      "epoch 88 loss 6815323.0\n",
      "epoch 89 loss 8571452.0\n",
      "epoch 90 loss 15259422.0\n",
      "epoch 91 loss 12521164.0\n",
      "epoch 92 loss 33372968.0\n",
      "epoch 93 loss 7190048.0\n",
      "epoch 94 loss 8108079.0\n",
      "epoch 95 loss 50562720.0\n",
      "epoch 96 loss 10966979.0\n",
      "epoch 97 loss 7223651.0\n",
      "epoch 98 loss 7286873.5\n",
      "epoch 99 loss 8589106.0\n",
      "epoch 100 loss 11759700.0\n",
      "epoch 101 loss 45845376.0\n",
      "epoch 102 loss 64421104.0\n",
      "epoch 103 loss 9095038.0\n",
      "epoch 104 loss 11296411.0\n",
      "epoch 105 loss 12528111.0\n",
      "epoch 106 loss 20800226.0\n",
      "epoch 107 loss 7247658.5\n",
      "epoch 108 loss 7340920.0\n",
      "epoch 109 loss 6828437.5\n",
      "epoch 110 loss 66270468.0\n",
      "epoch 111 loss 7986391.0\n",
      "epoch 112 loss 18317084.0\n",
      "epoch 113 loss 6801634.0\n",
      "epoch 114 loss 7122285.0\n",
      "epoch 115 loss 54749144.0\n",
      "epoch 116 loss 6956511.0\n",
      "epoch 117 loss 96945256.0\n",
      "epoch 118 loss 13155272.0\n",
      "epoch 119 loss 9213479.0\n",
      "epoch 120 loss 26840938.0\n",
      "epoch 121 loss 11346308.0\n",
      "epoch 122 loss 13756515.0\n",
      "epoch 123 loss 11735798.0\n",
      "epoch 124 loss 54412248.0\n",
      "epoch 125 loss 11830365.0\n",
      "epoch 126 loss 110360136.0\n",
      "epoch 127 loss 17454210.0\n",
      "epoch 128 loss 24831780.0\n",
      "epoch 129 loss 99868000.0\n",
      "epoch 130 loss 53900304.0\n",
      "epoch 131 loss 47684732.0\n",
      "epoch 132 loss 11639795.0\n",
      "epoch 133 loss 20725192.0\n",
      "epoch 134 loss 9373185.0\n",
      "epoch 135 loss 6839763.0\n",
      "epoch 136 loss 7508435.0\n",
      "epoch 137 loss 15760767.0\n",
      "epoch 138 loss 8719329.0\n",
      "epoch 139 loss 20473954.0\n",
      "epoch 140 loss 11319093.0\n"
     ]
    },
    {
     "ename": "KeyboardInterrupt",
     "evalue": "",
     "output_type": "error",
     "traceback": [
      "\u001b[0;31m---------------------------------------------------------------------------\u001b[0m",
      "\u001b[0;31mKeyboardInterrupt\u001b[0m                         Traceback (most recent call last)",
      "Input \u001b[0;32mIn [262]\u001b[0m, in \u001b[0;36m<cell line: 4>\u001b[0;34m()\u001b[0m\n\u001b[1;32m     10\u001b[0m outputs \u001b[38;5;241m=\u001b[39m auto_mel(data)  \u001b[38;5;66;03m# Generate our output\u001b[39;00m\n\u001b[1;32m     11\u001b[0m loss \u001b[38;5;241m=\u001b[39m criterion(outputs, data)  \u001b[38;5;66;03m# calcualte our loss\u001b[39;00m\n\u001b[0;32m---> 12\u001b[0m \u001b[43mloss\u001b[49m\u001b[38;5;241;43m.\u001b[39;49m\u001b[43mbackward\u001b[49m\u001b[43m(\u001b[49m\u001b[43m)\u001b[49m  \u001b[38;5;66;03m# calculate gradients\u001b[39;00m\n\u001b[1;32m     13\u001b[0m total_epoch_loss \u001b[38;5;241m=\u001b[39m loss\u001b[38;5;241m.\u001b[39mitem()\n\u001b[1;32m     14\u001b[0m optimizer\u001b[38;5;241m.\u001b[39mstep()  \u001b[38;5;66;03m# update weights using those gradients\u001b[39;00m\n",
      "File \u001b[0;32m~/miniconda3/lib/python3.8/site-packages/torch/_tensor.py:396\u001b[0m, in \u001b[0;36mTensor.backward\u001b[0;34m(self, gradient, retain_graph, create_graph, inputs)\u001b[0m\n\u001b[1;32m    387\u001b[0m \u001b[38;5;28;01mif\u001b[39;00m has_torch_function_unary(\u001b[38;5;28mself\u001b[39m):\n\u001b[1;32m    388\u001b[0m     \u001b[38;5;28;01mreturn\u001b[39;00m handle_torch_function(\n\u001b[1;32m    389\u001b[0m         Tensor\u001b[38;5;241m.\u001b[39mbackward,\n\u001b[1;32m    390\u001b[0m         (\u001b[38;5;28mself\u001b[39m,),\n\u001b[0;32m   (...)\u001b[0m\n\u001b[1;32m    394\u001b[0m         create_graph\u001b[38;5;241m=\u001b[39mcreate_graph,\n\u001b[1;32m    395\u001b[0m         inputs\u001b[38;5;241m=\u001b[39minputs)\n\u001b[0;32m--> 396\u001b[0m \u001b[43mtorch\u001b[49m\u001b[38;5;241;43m.\u001b[39;49m\u001b[43mautograd\u001b[49m\u001b[38;5;241;43m.\u001b[39;49m\u001b[43mbackward\u001b[49m\u001b[43m(\u001b[49m\u001b[38;5;28;43mself\u001b[39;49m\u001b[43m,\u001b[49m\u001b[43m \u001b[49m\u001b[43mgradient\u001b[49m\u001b[43m,\u001b[49m\u001b[43m \u001b[49m\u001b[43mretain_graph\u001b[49m\u001b[43m,\u001b[49m\u001b[43m \u001b[49m\u001b[43mcreate_graph\u001b[49m\u001b[43m,\u001b[49m\u001b[43m \u001b[49m\u001b[43minputs\u001b[49m\u001b[38;5;241;43m=\u001b[39;49m\u001b[43minputs\u001b[49m\u001b[43m)\u001b[49m\n",
      "File \u001b[0;32m~/miniconda3/lib/python3.8/site-packages/torch/autograd/__init__.py:173\u001b[0m, in \u001b[0;36mbackward\u001b[0;34m(tensors, grad_tensors, retain_graph, create_graph, grad_variables, inputs)\u001b[0m\n\u001b[1;32m    168\u001b[0m     retain_graph \u001b[38;5;241m=\u001b[39m create_graph\n\u001b[1;32m    170\u001b[0m \u001b[38;5;66;03m# The reason we repeat same the comment below is that\u001b[39;00m\n\u001b[1;32m    171\u001b[0m \u001b[38;5;66;03m# some Python versions print out the first line of a multi-line function\u001b[39;00m\n\u001b[1;32m    172\u001b[0m \u001b[38;5;66;03m# calls in the traceback and some print out the last line\u001b[39;00m\n\u001b[0;32m--> 173\u001b[0m \u001b[43mVariable\u001b[49m\u001b[38;5;241;43m.\u001b[39;49m\u001b[43m_execution_engine\u001b[49m\u001b[38;5;241;43m.\u001b[39;49m\u001b[43mrun_backward\u001b[49m\u001b[43m(\u001b[49m\u001b[43m  \u001b[49m\u001b[38;5;66;43;03m# Calls into the C++ engine to run the backward pass\u001b[39;49;00m\n\u001b[1;32m    174\u001b[0m \u001b[43m    \u001b[49m\u001b[43mtensors\u001b[49m\u001b[43m,\u001b[49m\u001b[43m \u001b[49m\u001b[43mgrad_tensors_\u001b[49m\u001b[43m,\u001b[49m\u001b[43m \u001b[49m\u001b[43mretain_graph\u001b[49m\u001b[43m,\u001b[49m\u001b[43m \u001b[49m\u001b[43mcreate_graph\u001b[49m\u001b[43m,\u001b[49m\u001b[43m \u001b[49m\u001b[43minputs\u001b[49m\u001b[43m,\u001b[49m\n\u001b[1;32m    175\u001b[0m \u001b[43m    \u001b[49m\u001b[43mallow_unreachable\u001b[49m\u001b[38;5;241;43m=\u001b[39;49m\u001b[38;5;28;43;01mTrue\u001b[39;49;00m\u001b[43m,\u001b[49m\u001b[43m \u001b[49m\u001b[43maccumulate_grad\u001b[49m\u001b[38;5;241;43m=\u001b[39;49m\u001b[38;5;28;43;01mTrue\u001b[39;49;00m\u001b[43m)\u001b[49m\n",
      "\u001b[0;31mKeyboardInterrupt\u001b[0m: "
     ]
    }
   ],
   "source": [
    "criterion = nn.MSELoss()  # Defines the loss between the target and model prediction\n",
    "optimizer = optim.Adam(auto_mel.parameters(), lr=0.001)  # Runs backprop and update weights\n",
    "\n",
    "for epoch in range(len(x)):\n",
    "    \n",
    "    total_epoch_loss = 0\n",
    "    \n",
    "    for i, data in enumerate(train_dataloader):        \n",
    "        optimizer.zero_grad() # zero the parameter gradients\n",
    "        outputs = auto_mel(data)  # Generate our output\n",
    "        loss = criterion(outputs, data)  # calcualte our loss\n",
    "        loss.backward()  # calculate gradients\n",
    "        total_epoch_loss = loss.item()\n",
    "        optimizer.step()  # update weights using those gradients\n",
    "    \n",
    "    print(f\"epoch {epoch} loss {total_epoch_loss}\")"
   ]
  },
  {
   "cell_type": "code",
   "execution_count": 263,
   "id": "1eb9bdc4",
   "metadata": {},
   "outputs": [
    {
     "data": {
      "text/plain": [
       "[<matplotlib.lines.Line2D at 0x7fcbd7fc72b0>]"
      ]
     },
     "execution_count": 263,
     "metadata": {},
     "output_type": "execute_result"
    },
    {
     "data": {
      "image/png": "[encoded data removed]",
      "text/plain": [
       "<Figure size 432x288 with 1 Axes>"
      ]
     },
     "metadata": {
      "needs_background": "light"
     },
     "output_type": "display_data"
    }
   ],
   "source": [
    "n = 100\n",
    "target_data = test_eeg_loader[n]\n",
    "predicted_data = auto_mel(test_eeg_loader[n].unsqueeze(0))  # Need to add batch dimension\n",
    "\n",
    "plt.plot(test_eeg_loader[n])\n",
    "plt.plot(predicted_data[0].detach())"
   ]
  },
  {
   "cell_type": "code",
   "execution_count": null,
   "id": "a0d9776e",
   "metadata": {},
   "outputs": [],
   "source": []
  }
 ],
 "metadata": {
  "kernelspec": {
   "display_name": "Python 3",
   "language": "python",
   "name": "python3"
  },
  "language_info": {
   "codemirror_mode": {
    "name": "ipython",
    "version": 3
   },
   "file_extension": ".py",
   "mimetype": "text/x-python",
   "name": "python",
   "nbconvert_exporter": "python",
   "pygments_lexer": "ipython3",
   "version": "3.8.5"
  }
 },
 "nbformat": 4,
 "nbformat_minor": 5
}
